{
  "nbformat": 4,
  "nbformat_minor": 0,
  "metadata": {
    "colab": {
      "name": "Mnista.ipynb",
      "version": "0.3.2",
      "provenance": [],
      "collapsed_sections": []
    },
    "kernelspec": {
      "name": "python3",
      "display_name": "Python 3"
    },
    "accelerator": "GPU"
  },
  "cells": [
    {
      "metadata": {
        "id": "pBUAZXiVPPC0",
        "colab_type": "text"
      },
      "cell_type": "markdown",
      "source": [
        "# Get acces to google drive"
      ]
    },
    {
      "metadata": {
        "id": "81wBVjziSy6x",
        "colab_type": "code",
        "outputId": "83eb364f-6856-472b-db1f-5575ac1c9224",
        "colab": {
          "base_uri": "https://localhost:8080/",
          "height": 35
        }
      },
      "cell_type": "code",
      "source": [
        "from google.colab import drive\n",
        "drive.mount('/content/drive')"
      ],
      "execution_count": 0,
      "outputs": [
        {
          "output_type": "stream",
          "text": [
            "Drive already mounted at /content/drive; to attempt to forcibly remount, call drive.mount(\"/content/drive\", force_remount=True).\n"
          ],
          "name": "stdout"
        }
      ]
    },
    {
      "metadata": {
        "id": "rtddubvY5slO",
        "colab_type": "text"
      },
      "cell_type": "markdown",
      "source": [
        "# Installl pytorch in colab"
      ]
    },
    {
      "metadata": {
        "id": "C2dUPVJX5pE6",
        "colab_type": "code",
        "colab": {}
      },
      "cell_type": "code",
      "source": [
        "# http://pytorch.org/\n",
        "from os.path import exists\n",
        "from wheel.pep425tags import get_abbr_impl, get_impl_ver, get_abi_tag\n",
        "platform = '{}{}-{}'.format(get_abbr_impl(), get_impl_ver(), get_abi_tag())\n",
        "cuda_output = !ldconfig -p|grep cudart.so|sed -e 's/.*\\.\\([0-9]*\\)\\.\\([0-9]*\\)$/cu\\1\\2/'\n",
        "accelerator = cuda_output[0] if exists('/dev/nvidia0') else 'cpu'\n",
        "\n",
        "!pip install -q http://download.pytorch.org/whl/{accelerator}/torch-0.4.1-{platform}-linux_x86_64.whl torchvision\n",
        "import torch"
      ],
      "execution_count": 0,
      "outputs": []
    },
    {
      "metadata": {
        "id": "HxH6xy2C4rJx",
        "colab_type": "text"
      },
      "cell_type": "markdown",
      "source": [
        "# import packages \n"
      ]
    },
    {
      "metadata": {
        "id": "eZ5bCyNp4qvD",
        "colab_type": "code",
        "colab": {}
      },
      "cell_type": "code",
      "source": [
        "import numpy as np\n",
        "\n",
        "import torch\n",
        "from torch import nn, optim\n",
        "from torch.nn import functional as F\n",
        "from torchvision import datasets, transforms\n",
        "from torch.utils.data import SubsetRandomSampler, DataLoader\n",
        "from torch.autograd import Variable\n",
        "\n",
        "import os\n",
        "\n",
        "from time import time\n",
        "\n",
        "import matplotlib.pyplot as plt\n",
        "%matplotlib inline\n",
        "    "
      ],
      "execution_count": 0,
      "outputs": []
    },
    {
      "metadata": {
        "id": "-5NJxrsD7hW2",
        "colab_type": "text"
      },
      "cell_type": "markdown",
      "source": [
        "# Data"
      ]
    },
    {
      "metadata": {
        "id": "FLjkjS8G7oZb",
        "colab_type": "text"
      },
      "cell_type": "markdown",
      "source": [
        "### Transforming"
      ]
    },
    {
      "metadata": {
        "id": "cFB9CXCP7mDH",
        "colab_type": "code",
        "colab": {}
      },
      "cell_type": "code",
      "source": [
        "transform = transforms.Compose([transforms.ToTensor(),\n",
        "                                transforms.Normalize((0.5,0.5,0.5),(0.5,0.5,0.5))\n",
        "                               ])\n"
      ],
      "execution_count": 0,
      "outputs": []
    },
    {
      "metadata": {
        "id": "js_6Jyds7vHi",
        "colab_type": "text"
      },
      "cell_type": "markdown",
      "source": [
        "### Download"
      ]
    },
    {
      "metadata": {
        "id": "WaJiK2BE4ZOX",
        "colab_type": "code",
        "colab": {}
      },
      "cell_type": "code",
      "source": [
        "train = datasets.MNIST('~/.pytorch/MNIST_data/', train=True, transform=transform, download=True)\n",
        "test = datasets.MNIST('~/.pytorch/MNIST_data/', train=False, transform=transform, download=True)"
      ],
      "execution_count": 0,
      "outputs": []
    },
    {
      "metadata": {
        "id": "dbgbi33q73pi",
        "colab_type": "text"
      },
      "cell_type": "markdown",
      "source": [
        "### Split data"
      ]
    },
    {
      "metadata": {
        "id": "ppV6oCnP7ZMg",
        "colab_type": "code",
        "colab": {}
      },
      "cell_type": "code",
      "source": [
        "batch_size = 64\n",
        "val_size = 0.2\n",
        "\n",
        "train_size = len(train)\n",
        "indices = list(range(train_size))\n",
        "np.random.shuffle(indices)\n",
        "split_size = int(val_size * train_size)\n",
        "\n",
        "train_indices, val_indices = indices[split_size:], indices[:split_size]\n",
        "\n",
        "train_sampler = SubsetRandomSampler(train_indices)\n",
        "val_sampler = SubsetRandomSampler(val_indices)"
      ],
      "execution_count": 0,
      "outputs": []
    },
    {
      "metadata": {
        "id": "Nar3qBVZA7_e",
        "colab_type": "text"
      },
      "cell_type": "markdown",
      "source": [
        "### Load data"
      ]
    },
    {
      "metadata": {
        "id": "hV_OfoQDA7tH",
        "colab_type": "code",
        "colab": {}
      },
      "cell_type": "code",
      "source": [
        "train_loader = DataLoader(train, batch_size=batch_size, sampler=train_sampler, pin_memory=True)\n",
        "val_loader = DataLoader(train, batch_size=batch_size, sampler=val_sampler, pin_memory=True)\n",
        "test_loader = DataLoader(test, batch_size=batch_size)"
      ],
      "execution_count": 0,
      "outputs": []
    },
    {
      "metadata": {
        "id": "k24G725iCb5E",
        "colab_type": "text"
      },
      "cell_type": "markdown",
      "source": [
        "# Display Data Samples"
      ]
    },
    {
      "metadata": {
        "id": "JzoY-X5KA25P",
        "colab_type": "code",
        "outputId": "f020aa30-70dc-4fcc-df6a-87d383ed80b5",
        "colab": {
          "base_uri": "https://localhost:8080/",
          "height": 283
        }
      },
      "cell_type": "code",
      "source": [
        "dataiter = iter(train_loader)\n",
        "images, labels = dataiter.next()\n",
        "images = images.numpy()\n",
        "\n",
        "fig = plt.figure(figsize=(25, 4))\n",
        "\n",
        "for idx in np.arange(20):\n",
        "  ax = fig.add_subplot(2, 20/2, idx+1, xticks=[], yticks=[])\n",
        "  ax.imshow(np.squeeze(images[idx]), cmap='gray')\n",
        "  # print out the correct label for each image\n",
        "  # .item() gets the value contained in a Tensor\n",
        "  ax.set_title(str(labels[idx].item()))"
      ],
      "execution_count": 0,
      "outputs": [
        {
          "output_type": "display_data",
          "data": {
            "image/png": "[encoded data removed]",
            "text/plain": [
              "<matplotlib.figure.Figure at 0x7fe9c276fc88>"
            ]
          },
          "metadata": {
            "tags": []
          }
        }
      ]
    },
    {
      "metadata": {
        "id": "_33RuQ9DE5ZS",
        "colab_type": "text"
      },
      "cell_type": "markdown",
      "source": [
        "### View an Image in More Detail"
      ]
    },
    {
      "metadata": {
        "id": "JxxcnpGpE7ni",
        "colab_type": "code",
        "outputId": "2f77d622-2663-4ff2-ebb4-43da71212402",
        "colab": {
          "base_uri": "https://localhost:8080/",
          "height": 701
        }
      },
      "cell_type": "code",
      "source": [
        "img = np.squeeze(images[2])\n",
        "\n",
        "fig = plt.figure(figsize = (12,12)) \n",
        "ax = fig.add_subplot(111)\n",
        "ax.imshow(img, cmap='gray')\n",
        "width, height = img.shape\n",
        "thresh = img.max()/2.5\n",
        "for x in range(width):\n",
        "    for y in range(height):\n",
        "        val = round(img[x][y],2) if img[x][y] !=0 else 0\n",
        "        ax.annotate(str(val), xy=(y,x),\n",
        "                    horizontalalignment='center',\n",
        "                    verticalalignment='center',\n",
        "                    color='white' if img[x][y]<thresh else 'black')"
      ],
      "execution_count": 0,
      "outputs": [
        {
          "output_type": "display_data",
          "data": {
            "image/png": "[encoded data removed]",
            "text/plain": [
              "<matplotlib.figure.Figure at 0x7fe96af55320>"
            ]
          },
          "metadata": {
            "tags": []
          }
        }
      ]
    },
    {
      "metadata": {
        "id": "_fQPTabFEwb6",
        "colab_type": "text"
      },
      "cell_type": "markdown",
      "source": [
        "# Neural Network"
      ]
    },
    {
      "metadata": {
        "id": "BINw2wCWS-AH",
        "colab_type": "code",
        "colab": {}
      },
      "cell_type": "code",
      "source": [
        "class NeuralNetwork(nn.Module):\n",
        "  \n",
        "  def __init__(self, input_size, output_size, hidden_layers, drop_p=0.5):\n",
        "    \n",
        "    super().__init__()\n",
        "    \n",
        "    self.input_size = input_size\n",
        "    \n",
        "    \n",
        "    \n",
        "    self.hidden_layers = nn.ModuleList([nn.Linear(input_size, hidden_layers[0])])\n",
        "    \n",
        "    for input, output in zip(hidden_layers[:-1], hidden_layers[1:]):\n",
        "      self.hidden_layers.extend([nn.Linear(input, output)])\n",
        "    \n",
        "    self.output_layer = nn.Linear(hidden_layers[-1], output_size)\n",
        "    \n",
        "    \n",
        "    \n",
        "    \n",
        "    self.relu = F.relu\n",
        "    \n",
        "    self.drop = nn.Dropout(p=drop_p)\n",
        "    \n",
        "  def forward(self,x):\n",
        "    x = x.view(-1, self.input_size)\n",
        "    for layer in self.hidden_layers:\n",
        "      x = layer(x)\n",
        "      x = self.relu(x)\n",
        "      x = self.drop(x)\n",
        "      \n",
        "    x = self.output_layer(x)\n",
        "    \n",
        "    return x"
      ],
      "execution_count": 0,
      "outputs": []
    },
    {
      "metadata": {
        "id": "7xsjSo2gNLkK",
        "colab_type": "code",
        "outputId": "0176d7d7-ddbe-48cd-e281-77286c85e6b7",
        "colab": {
          "base_uri": "https://localhost:8080/",
          "height": 191
        }
      },
      "cell_type": "code",
      "source": [
        "input_size = images[0].shape[1] * images[0].shape[2]\n",
        "output_size = 10\n",
        "hidden_layers_size = [512, 128, 64, 32]\n",
        "drop_p = 0.2\n",
        "net = NeuralNetwork(input_size=input_size, output_size=output_size, hidden_layers=hidden_layers_size, drop_p=drop_p)\n",
        "net"
      ],
      "execution_count": 0,
      "outputs": [
        {
          "output_type": "execute_result",
          "data": {
            "text/plain": [
              "NeuralNetwork(\n",
              "  (hidden_layers): ModuleList(\n",
              "    (0): Linear(in_features=784, out_features=512, bias=True)\n",
              "    (1): Linear(in_features=512, out_features=128, bias=True)\n",
              "    (2): Linear(in_features=128, out_features=64, bias=True)\n",
              "    (3): Linear(in_features=64, out_features=32, bias=True)\n",
              "  )\n",
              "  (output_layer): Linear(in_features=32, out_features=10, bias=True)\n",
              "  (drop): Dropout(p=0.2)\n",
              ")"
            ]
          },
          "metadata": {
            "tags": []
          },
          "execution_count": 11
        }
      ]
    },
    {
      "metadata": {
        "id": "bbNtUG7VTche",
        "colab_type": "text"
      },
      "cell_type": "markdown",
      "source": [
        "# Checkpoint saver"
      ]
    },
    {
      "metadata": {
        "id": "yrrfNmz0S_qZ",
        "colab_type": "code",
        "colab": {}
      },
      "cell_type": "code",
      "source": [
        "def save_checkpoint(model):\n",
        "  \n",
        "  return {'input_size': model.input_size,\n",
        "          'output_size': model.output_layer.out_features,\n",
        "          'hidden_layers': [each.out_features for each in model.hidden_layers],\n",
        "          'state_dict': model.state_dict()}"
      ],
      "execution_count": 0,
      "outputs": []
    },
    {
      "metadata": {
        "id": "28a49XUWIe6j",
        "colab_type": "code",
        "colab": {}
      },
      "cell_type": "code",
      "source": [
        "checkpoint = save_checkpoint(net)"
      ],
      "execution_count": 0,
      "outputs": []
    },
    {
      "metadata": {
        "id": "5uxQ224lTnV9",
        "colab_type": "text"
      },
      "cell_type": "markdown",
      "source": [
        "# Check for GPU"
      ]
    },
    {
      "metadata": {
        "id": "Yhq1Yz1S8PMK",
        "colab_type": "code",
        "outputId": "7ac0abb8-b351-4944-8a0f-2a6f62314ef6",
        "colab": {
          "base_uri": "https://localhost:8080/",
          "height": 35
        }
      },
      "cell_type": "code",
      "source": [
        "train_on_gpu = torch.cuda.is_available()\n",
        "\n",
        "if not train_on_gpu:\n",
        "    print('CUDA is not available.  Training on CPU ...')\n",
        "else:\n",
        "    print('CUDA is available!  Training on GPU ...')\n",
        "    net.cuda()\n",
        "      "
      ],
      "execution_count": 0,
      "outputs": [
        {
          "output_type": "stream",
          "text": [
            "CUDA is available!  Training on GPU ...\n"
          ],
          "name": "stdout"
        }
      ]
    },
    {
      "metadata": {
        "id": "5UfTY9evTtcx",
        "colab_type": "text"
      },
      "cell_type": "markdown",
      "source": [
        "# Loss & Optimizer"
      ]
    },
    {
      "metadata": {
        "id": "_y9XJAdULxdV",
        "colab_type": "code",
        "colab": {}
      },
      "cell_type": "code",
      "source": [
        "loss_function = nn.CrossEntropyLoss()\n",
        "optimizer = optim.SGD(net.parameters(), lr=0.01)"
      ],
      "execution_count": 0,
      "outputs": []
    },
    {
      "metadata": {
        "id": "5rJiXVLPTzt-",
        "colab_type": "text"
      },
      "cell_type": "markdown",
      "source": [
        "# Train"
      ]
    },
    {
      "metadata": {
        "id": "rlVYmk49QyDp",
        "colab_type": "code",
        "colab": {}
      },
      "cell_type": "code",
      "source": [
        "def train(model, train_loader, val_loader, optimizer, loss_function, checkpoint, saving_path,n_epochs=30):\n",
        "  \n",
        "  train_losses = []\n",
        "  train_accs = []\n",
        "  \n",
        "  val_losses = []\n",
        "  val_accs = []\n",
        "\n",
        "  min_val_loss = np.Inf\n",
        "\n",
        "  model.train()      \n",
        "  for i in range(1,n_epochs+1):\n",
        "    s = time()\n",
        "    train_loss = 0\n",
        "    train_acc = 0\n",
        "    for x,y in train_loader:\n",
        "      if train_on_gpu:\n",
        "        x, y = x.cuda(), y.cuda()\n",
        "      optimizer.zero_grad()\n",
        "      \n",
        "      y_ = model.forward(x)\n",
        "      \n",
        "      loss = loss_function(y_,y)\n",
        "      \n",
        "      loss.backward()\n",
        "      \n",
        "      optimizer.step()\n",
        "      \n",
        "      train_loss += loss.item()\n",
        "      \n",
        "      ps = torch.exp(y_)\n",
        "      top_p, top_class = ps.topk(1, dim=1)\n",
        "      equals = top_class == y.view(*top_class.shape)\n",
        "      train_acc += torch.mean(equals.type(torch.FloatTensor))\n",
        "    \n",
        "    \n",
        "    else:\n",
        "      val_loss = 0\n",
        "      val_acc = 0\n",
        "      with torch.no_grad():\n",
        "        model.eval()\n",
        "        \n",
        "        for x,y in val_loader:\n",
        "         \n",
        "          if train_on_gpu:\n",
        "            x, y = x.cuda(), y.cuda()\n",
        "          y_ = model.forward(x)\n",
        "\n",
        "          loss = loss_function(y_,y)\n",
        "          \n",
        "          val_loss += loss.item()\n",
        "          \n",
        "          ps = torch.exp(y_)\n",
        "          top_p, top_class = ps.topk(1, dim=1)\n",
        "          equals = top_class == y.view(*top_class.shape)\n",
        "          \n",
        "          val_acc += torch.mean(equals.type(torch.FloatTensor))\n",
        "          \n",
        "    train_loss /= len(train_loader)     \n",
        "    train_acc /= len(train_loader)  \n",
        "    \n",
        "    val_loss /= len(val_loader)\n",
        "    val_acc /= len(val_loader)\n",
        "    \n",
        "    train_losses.append(train_loss)\n",
        "    train_accs.append(train_acc)\n",
        "    val_accs.append(val_acc)\n",
        "    \n",
        "    if min_val_loss > val_loss:\n",
        "        print('Validation loss decreased ({:.6f} --> {:.6f}).  Saving model ...'.format(min_val_loss, val_loss))\n",
        "        min_val_loss = val_loss\n",
        "        checkpoint['state_dict'] = net.state_dict()\n",
        "        torch.save(checkpoint, os.path.join('{}'.format(saving_path), 'checkpoint.pth'))\n",
        "    print(\"Epoch: {}/{}.. \".format(i,n_epochs),\n",
        "              \"Training Loss: {:.3f}.. \".format(train_loss),\n",
        "              \"Validation Loss: {:.3f}.. \".format(val_loss),\n",
        "              \"train Accuracy: {:.3f}\".format(train_acc),\n",
        "              \"Validation Accuracy: {:.3f}\".format(val_acc),\n",
        "              \"Delay: {:.2f} s\".format((time()-s))\n",
        "         )\n",
        "      \n",
        "      \n",
        "  return train_losses, train_accs, val_losses, val_accs\n",
        "    \n",
        "\n"
      ],
      "execution_count": 0,
      "outputs": []
    },
    {
      "metadata": {
        "id": "LG6Zw2ZlAMgo",
        "colab_type": "code",
        "outputId": "bd82e66a-fd40-4808-f572-8d4c8fd85d23",
        "colab": {
          "base_uri": "https://localhost:8080/",
          "height": 2135
        }
      },
      "cell_type": "code",
      "source": [
        "train_losses, train_accs, val_losses, val_accs = train(model= net,train_loader=train_loader,val_loader=val_loader,n_epochs=30,optimizer=optimizer,loss_function=loss_function,checkpoint=checkpoint,saving_path='drive/My Drive/checkpoints')"
      ],
      "execution_count": 0,
      "outputs": [
        {
          "output_type": "stream",
          "text": [
            "Validation loss decreased (inf --> 2.065152).  Saving model ...\n",
            "Epoch: 1/100..  Training Loss: 2.261..  Validation Loss: 2.065..  train Accuracy: 0.189 Validation Accuracy: 0.332 Delay: 12.99 s\n",
            "Validation loss decreased (2.065152 --> 0.690364).  Saving model ...\n",
            "Epoch: 2/100..  Training Loss: 1.136..  Validation Loss: 0.690..  train Accuracy: 0.642 Validation Accuracy: 0.789 Delay: 12.10 s\n",
            "Validation loss decreased (0.690364 --> 0.484240).  Saving model ...\n",
            "Epoch: 3/100..  Training Loss: 0.545..  Validation Loss: 0.484..  train Accuracy: 0.834 Validation Accuracy: 0.855 Delay: 12.13 s\n",
            "Validation loss decreased (0.484240 --> 0.422337).  Saving model ...\n",
            "Epoch: 4/100..  Training Loss: 0.426..  Validation Loss: 0.422..  train Accuracy: 0.875 Validation Accuracy: 0.875 Delay: 12.08 s\n",
            "Validation loss decreased (0.422337 --> 0.324928).  Saving model ...\n",
            "Epoch: 5/100..  Training Loss: 0.346..  Validation Loss: 0.325..  train Accuracy: 0.899 Validation Accuracy: 0.902 Delay: 12.08 s\n",
            "Validation loss decreased (0.324928 --> 0.289686).  Saving model ...\n",
            "Epoch: 6/100..  Training Loss: 0.285..  Validation Loss: 0.290..  train Accuracy: 0.917 Validation Accuracy: 0.913 Delay: 12.09 s\n",
            "Validation loss decreased (0.289686 --> 0.234400).  Saving model ...\n",
            "Epoch: 7/100..  Training Loss: 0.241..  Validation Loss: 0.234..  train Accuracy: 0.928 Validation Accuracy: 0.931 Delay: 12.06 s\n",
            "Validation loss decreased (0.234400 --> 0.213283).  Saving model ...\n",
            "Epoch: 8/100..  Training Loss: 0.205..  Validation Loss: 0.213..  train Accuracy: 0.940 Validation Accuracy: 0.937 Delay: 12.16 s\n",
            "Validation loss decreased (0.213283 --> 0.199936).  Saving model ...\n",
            "Epoch: 9/100..  Training Loss: 0.179..  Validation Loss: 0.200..  train Accuracy: 0.948 Validation Accuracy: 0.942 Delay: 12.16 s\n",
            "Validation loss decreased (0.199936 --> 0.173494).  Saving model ...\n",
            "Epoch: 10/100..  Training Loss: 0.157..  Validation Loss: 0.173..  train Accuracy: 0.954 Validation Accuracy: 0.949 Delay: 12.05 s\n",
            "Validation loss decreased (0.173494 --> 0.152191).  Saving model ...\n",
            "Epoch: 11/100..  Training Loss: 0.139..  Validation Loss: 0.152..  train Accuracy: 0.959 Validation Accuracy: 0.953 Delay: 11.98 s\n",
            "Validation loss decreased (0.152191 --> 0.151334).  Saving model ...\n",
            "Epoch: 12/100..  Training Loss: 0.124..  Validation Loss: 0.151..  train Accuracy: 0.963 Validation Accuracy: 0.954 Delay: 11.97 s\n",
            "Validation loss decreased (0.151334 --> 0.134040).  Saving model ...\n",
            "Epoch: 13/100..  Training Loss: 0.112..  Validation Loss: 0.134..  train Accuracy: 0.967 Validation Accuracy: 0.958 Delay: 11.90 s\n",
            "Epoch: 14/100..  Training Loss: 0.102..  Validation Loss: 0.140..  train Accuracy: 0.970 Validation Accuracy: 0.959 Delay: 11.96 s\n",
            "Validation loss decreased (0.134040 --> 0.126874).  Saving model ...\n",
            "Epoch: 15/100..  Training Loss: 0.094..  Validation Loss: 0.127..  train Accuracy: 0.973 Validation Accuracy: 0.962 Delay: 11.89 s\n",
            "Validation loss decreased (0.126874 --> 0.121967).  Saving model ...\n",
            "Epoch: 16/100..  Training Loss: 0.085..  Validation Loss: 0.122..  train Accuracy: 0.975 Validation Accuracy: 0.964 Delay: 12.00 s\n",
            "Validation loss decreased (0.121967 --> 0.120354).  Saving model ...\n",
            "Epoch: 17/100..  Training Loss: 0.077..  Validation Loss: 0.120..  train Accuracy: 0.977 Validation Accuracy: 0.965 Delay: 11.87 s\n",
            "Validation loss decreased (0.120354 --> 0.119480).  Saving model ...\n",
            "Epoch: 18/100..  Training Loss: 0.071..  Validation Loss: 0.119..  train Accuracy: 0.979 Validation Accuracy: 0.966 Delay: 11.76 s\n",
            "Epoch: 19/100..  Training Loss: 0.066..  Validation Loss: 0.121..  train Accuracy: 0.980 Validation Accuracy: 0.965 Delay: 11.96 s\n",
            "Epoch: 20/100..  Training Loss: 0.060..  Validation Loss: 0.121..  train Accuracy: 0.982 Validation Accuracy: 0.965 Delay: 11.95 s\n",
            "Validation loss decreased (0.119480 --> 0.107787).  Saving model ...\n",
            "Epoch: 21/100..  Training Loss: 0.056..  Validation Loss: 0.108..  train Accuracy: 0.984 Validation Accuracy: 0.969 Delay: 11.97 s\n",
            "Validation loss decreased (0.107787 --> 0.107159).  Saving model ...\n",
            "Epoch: 22/100..  Training Loss: 0.051..  Validation Loss: 0.107..  train Accuracy: 0.985 Validation Accuracy: 0.969 Delay: 11.89 s\n",
            "Validation loss decreased (0.107159 --> 0.101773).  Saving model ...\n",
            "Epoch: 23/100..  Training Loss: 0.047..  Validation Loss: 0.102..  train Accuracy: 0.987 Validation Accuracy: 0.970 Delay: 11.94 s\n",
            "Validation loss decreased (0.101773 --> 0.098422).  Saving model ...\n",
            "Epoch: 24/100..  Training Loss: 0.044..  Validation Loss: 0.098..  train Accuracy: 0.987 Validation Accuracy: 0.972 Delay: 11.99 s\n",
            "Epoch: 25/100..  Training Loss: 0.040..  Validation Loss: 0.111..  train Accuracy: 0.988 Validation Accuracy: 0.968 Delay: 12.09 s\n",
            "Epoch: 26/100..  Training Loss: 0.037..  Validation Loss: 0.115..  train Accuracy: 0.990 Validation Accuracy: 0.968 Delay: 11.96 s\n",
            "Epoch: 27/100..  Training Loss: 0.035..  Validation Loss: 0.108..  train Accuracy: 0.990 Validation Accuracy: 0.969 Delay: 12.16 s\n",
            "Epoch: 28/100..  Training Loss: 0.031..  Validation Loss: 0.107..  train Accuracy: 0.992 Validation Accuracy: 0.969 Delay: 11.91 s\n",
            "Epoch: 29/100..  Training Loss: 0.028..  Validation Loss: 0.109..  train Accuracy: 0.992 Validation Accuracy: 0.970 Delay: 11.91 s\n",
            "Epoch: 30/100..  Training Loss: 0.026..  Validation Loss: 0.099..  train Accuracy: 0.993 Validation Accuracy: 0.973 Delay: 11.90 s\n",
            "Epoch: 31/100..  Training Loss: 0.024..  Validation Loss: 0.102..  train Accuracy: 0.993 Validation Accuracy: 0.973 Delay: 11.95 s\n",
            "Epoch: 32/100..  Training Loss: 0.021..  Validation Loss: 0.104..  train Accuracy: 0.995 Validation Accuracy: 0.973 Delay: 11.76 s\n",
            "Epoch: 33/100..  Training Loss: 0.019..  Validation Loss: 0.106..  train Accuracy: 0.996 Validation Accuracy: 0.971 Delay: 11.80 s\n",
            "Epoch: 34/100..  Training Loss: 0.018..  Validation Loss: 0.103..  train Accuracy: 0.996 Validation Accuracy: 0.973 Delay: 12.12 s\n",
            "Epoch: 35/100..  Training Loss: 0.016..  Validation Loss: 0.106..  train Accuracy: 0.996 Validation Accuracy: 0.972 Delay: 12.04 s\n",
            "Epoch: 36/100..  Training Loss: 0.017..  Validation Loss: 0.106..  train Accuracy: 0.996 Validation Accuracy: 0.973 Delay: 11.99 s\n",
            "Epoch: 37/100..  Training Loss: 0.014..  Validation Loss: 0.102..  train Accuracy: 0.997 Validation Accuracy: 0.974 Delay: 11.87 s\n",
            "Epoch: 38/100..  Training Loss: 0.013..  Validation Loss: 0.113..  train Accuracy: 0.997 Validation Accuracy: 0.971 Delay: 11.84 s\n",
            "Epoch: 39/100..  Training Loss: 0.010..  Validation Loss: 0.118..  train Accuracy: 0.998 Validation Accuracy: 0.970 Delay: 12.01 s\n",
            "Epoch: 40/100..  Training Loss: 0.009..  Validation Loss: 0.109..  train Accuracy: 0.998 Validation Accuracy: 0.973 Delay: 11.89 s\n",
            "Epoch: 41/100..  Training Loss: 0.009..  Validation Loss: 0.108..  train Accuracy: 0.998 Validation Accuracy: 0.974 Delay: 11.97 s\n",
            "Epoch: 42/100..  Training Loss: 0.008..  Validation Loss: 0.122..  train Accuracy: 0.999 Validation Accuracy: 0.971 Delay: 11.83 s\n",
            "Epoch: 43/100..  Training Loss: 0.007..  Validation Loss: 0.112..  train Accuracy: 0.999 Validation Accuracy: 0.973 Delay: 11.75 s\n",
            "Epoch: 44/100..  Training Loss: 0.006..  Validation Loss: 0.110..  train Accuracy: 0.999 Validation Accuracy: 0.974 Delay: 11.88 s\n",
            "Epoch: 45/100..  Training Loss: 0.005..  Validation Loss: 0.113..  train Accuracy: 0.999 Validation Accuracy: 0.974 Delay: 11.93 s\n",
            "Epoch: 46/100..  Training Loss: 0.005..  Validation Loss: 0.113..  train Accuracy: 1.000 Validation Accuracy: 0.974 Delay: 11.79 s\n",
            "Epoch: 47/100..  Training Loss: 0.004..  Validation Loss: 0.115..  train Accuracy: 1.000 Validation Accuracy: 0.974 Delay: 11.80 s\n",
            "Epoch: 48/100..  Training Loss: 0.004..  Validation Loss: 0.115..  train Accuracy: 0.999 Validation Accuracy: 0.975 Delay: 11.72 s\n",
            "Epoch: 49/100..  Training Loss: 0.004..  Validation Loss: 0.120..  train Accuracy: 1.000 Validation Accuracy: 0.973 Delay: 11.79 s\n",
            "Epoch: 50/100..  Training Loss: 0.003..  Validation Loss: 0.116..  train Accuracy: 1.000 Validation Accuracy: 0.974 Delay: 11.98 s\n",
            "Epoch: 51/100..  Training Loss: 0.003..  Validation Loss: 0.120..  train Accuracy: 1.000 Validation Accuracy: 0.974 Delay: 11.89 s\n",
            "Epoch: 52/100..  Training Loss: 0.002..  Validation Loss: 0.123..  train Accuracy: 1.000 Validation Accuracy: 0.972 Delay: 11.91 s\n",
            "Epoch: 53/100..  Training Loss: 0.002..  Validation Loss: 0.118..  train Accuracy: 1.000 Validation Accuracy: 0.974 Delay: 12.02 s\n",
            "Epoch: 54/100..  Training Loss: 0.002..  Validation Loss: 0.121..  train Accuracy: 1.000 Validation Accuracy: 0.974 Delay: 11.95 s\n",
            "Epoch: 55/100..  Training Loss: 0.002..  Validation Loss: 0.119..  train Accuracy: 1.000 Validation Accuracy: 0.974 Delay: 11.87 s\n",
            "Epoch: 56/100..  Training Loss: 0.002..  Validation Loss: 0.121..  train Accuracy: 1.000 Validation Accuracy: 0.974 Delay: 11.94 s\n",
            "Epoch: 57/100..  Training Loss: 0.002..  Validation Loss: 0.121..  train Accuracy: 1.000 Validation Accuracy: 0.975 Delay: 11.78 s\n",
            "Epoch: 58/100..  Training Loss: 0.001..  Validation Loss: 0.122..  train Accuracy: 1.000 Validation Accuracy: 0.975 Delay: 11.96 s\n",
            "Epoch: 59/100..  Training Loss: 0.001..  Validation Loss: 0.122..  train Accuracy: 1.000 Validation Accuracy: 0.975 Delay: 11.99 s\n",
            "Epoch: 60/100..  Training Loss: 0.001..  Validation Loss: 0.123..  train Accuracy: 1.000 Validation Accuracy: 0.974 Delay: 12.07 s\n",
            "Epoch: 61/100..  Training Loss: 0.001..  Validation Loss: 0.126..  train Accuracy: 1.000 Validation Accuracy: 0.973 Delay: 12.10 s\n",
            "Epoch: 62/100..  Training Loss: 0.001..  Validation Loss: 0.125..  train Accuracy: 1.000 Validation Accuracy: 0.974 Delay: 11.89 s\n",
            "Epoch: 63/100..  Training Loss: 0.001..  Validation Loss: 0.124..  train Accuracy: 1.000 Validation Accuracy: 0.974 Delay: 11.80 s\n",
            "Epoch: 64/100..  Training Loss: 0.001..  Validation Loss: 0.126..  train Accuracy: 1.000 Validation Accuracy: 0.974 Delay: 11.90 s\n",
            "Epoch: 65/100..  Training Loss: 0.001..  Validation Loss: 0.126..  train Accuracy: 1.000 Validation Accuracy: 0.975 Delay: 11.83 s\n",
            "Epoch: 66/100..  Training Loss: 0.001..  Validation Loss: 0.126..  train Accuracy: 1.000 Validation Accuracy: 0.974 Delay: 11.85 s\n",
            "Epoch: 67/100..  Training Loss: 0.001..  Validation Loss: 0.128..  train Accuracy: 1.000 Validation Accuracy: 0.974 Delay: 11.84 s\n",
            "Epoch: 68/100..  Training Loss: 0.001..  Validation Loss: 0.127..  train Accuracy: 1.000 Validation Accuracy: 0.975 Delay: 11.78 s\n",
            "Epoch: 69/100..  Training Loss: 0.001..  Validation Loss: 0.129..  train Accuracy: 1.000 Validation Accuracy: 0.974 Delay: 11.80 s\n",
            "Epoch: 70/100..  Training Loss: 0.001..  Validation Loss: 0.128..  train Accuracy: 1.000 Validation Accuracy: 0.974 Delay: 11.86 s\n",
            "Epoch: 71/100..  Training Loss: 0.001..  Validation Loss: 0.130..  train Accuracy: 1.000 Validation Accuracy: 0.974 Delay: 11.95 s\n",
            "Epoch: 72/100..  Training Loss: 0.001..  Validation Loss: 0.129..  train Accuracy: 1.000 Validation Accuracy: 0.975 Delay: 12.08 s\n",
            "Epoch: 73/100..  Training Loss: 0.001..  Validation Loss: 0.131..  train Accuracy: 1.000 Validation Accuracy: 0.974 Delay: 11.92 s\n",
            "Epoch: 74/100..  Training Loss: 0.001..  Validation Loss: 0.130..  train Accuracy: 1.000 Validation Accuracy: 0.974 Delay: 11.92 s\n",
            "Epoch: 75/100..  Training Loss: 0.001..  Validation Loss: 0.131..  train Accuracy: 1.000 Validation Accuracy: 0.974 Delay: 11.91 s\n",
            "Epoch: 76/100..  Training Loss: 0.001..  Validation Loss: 0.131..  train Accuracy: 1.000 Validation Accuracy: 0.974 Delay: 11.91 s\n",
            "Epoch: 77/100..  Training Loss: 0.001..  Validation Loss: 0.132..  train Accuracy: 1.000 Validation Accuracy: 0.974 Delay: 11.99 s\n",
            "Epoch: 78/100..  Training Loss: 0.001..  Validation Loss: 0.132..  train Accuracy: 1.000 Validation Accuracy: 0.974 Delay: 12.15 s\n",
            "Epoch: 79/100..  Training Loss: 0.001..  Validation Loss: 0.132..  train Accuracy: 1.000 Validation Accuracy: 0.975 Delay: 11.98 s\n",
            "Epoch: 80/100..  Training Loss: 0.001..  Validation Loss: 0.133..  train Accuracy: 1.000 Validation Accuracy: 0.975 Delay: 11.94 s\n",
            "Epoch: 81/100..  Training Loss: 0.001..  Validation Loss: 0.134..  train Accuracy: 1.000 Validation Accuracy: 0.974 Delay: 12.03 s\n",
            "Epoch: 82/100..  Training Loss: 0.001..  Validation Loss: 0.133..  train Accuracy: 1.000 Validation Accuracy: 0.975 Delay: 11.95 s\n",
            "Epoch: 83/100..  Training Loss: 0.001..  Validation Loss: 0.134..  train Accuracy: 1.000 Validation Accuracy: 0.974 Delay: 11.84 s\n",
            "Epoch: 84/100..  Training Loss: 0.001..  Validation Loss: 0.134..  train Accuracy: 1.000 Validation Accuracy: 0.974 Delay: 11.85 s\n",
            "Epoch: 85/100..  Training Loss: 0.001..  Validation Loss: 0.135..  train Accuracy: 1.000 Validation Accuracy: 0.974 Delay: 11.91 s\n",
            "Epoch: 86/100..  Training Loss: 0.001..  Validation Loss: 0.137..  train Accuracy: 1.000 Validation Accuracy: 0.974 Delay: 12.17 s\n",
            "Epoch: 87/100..  Training Loss: 0.000..  Validation Loss: 0.135..  train Accuracy: 1.000 Validation Accuracy: 0.975 Delay: 12.10 s\n",
            "Epoch: 88/100..  Training Loss: 0.000..  Validation Loss: 0.137..  train Accuracy: 1.000 Validation Accuracy: 0.974 Delay: 11.89 s\n",
            "Epoch: 89/100..  Training Loss: 0.000..  Validation Loss: 0.136..  train Accuracy: 1.000 Validation Accuracy: 0.975 Delay: 11.92 s\n",
            "Epoch: 90/100..  Training Loss: 0.000..  Validation Loss: 0.137..  train Accuracy: 1.000 Validation Accuracy: 0.974 Delay: 11.92 s\n",
            "Epoch: 91/100..  Training Loss: 0.000..  Validation Loss: 0.138..  train Accuracy: 1.000 Validation Accuracy: 0.975 Delay: 12.05 s\n",
            "Epoch: 92/100..  Training Loss: 0.000..  Validation Loss: 0.138..  train Accuracy: 1.000 Validation Accuracy: 0.975 Delay: 11.91 s\n",
            "Epoch: 93/100..  Training Loss: 0.000..  Validation Loss: 0.138..  train Accuracy: 1.000 Validation Accuracy: 0.974 Delay: 11.91 s\n",
            "Epoch: 94/100..  Training Loss: 0.000..  Validation Loss: 0.137..  train Accuracy: 1.000 Validation Accuracy: 0.975 Delay: 11.89 s\n",
            "Epoch: 95/100..  Training Loss: 0.000..  Validation Loss: 0.138..  train Accuracy: 1.000 Validation Accuracy: 0.975 Delay: 12.08 s\n",
            "Epoch: 96/100..  Training Loss: 0.000..  Validation Loss: 0.138..  train Accuracy: 1.000 Validation Accuracy: 0.975 Delay: 11.98 s\n",
            "Epoch: 97/100..  Training Loss: 0.000..  Validation Loss: 0.138..  train Accuracy: 1.000 Validation Accuracy: 0.975 Delay: 11.88 s\n",
            "Epoch: 98/100..  Training Loss: 0.000..  Validation Loss: 0.139..  train Accuracy: 1.000 Validation Accuracy: 0.975 Delay: 11.86 s\n",
            "Epoch: 99/100..  Training Loss: 0.000..  Validation Loss: 0.139..  train Accuracy: 1.000 Validation Accuracy: 0.975 Delay: 11.88 s\n",
            "Epoch: 100/100..  Training Loss: 0.000..  Validation Loss: 0.140..  train Accuracy: 1.000 Validation Accuracy: 0.974 Delay: 11.99 s\n"
          ],
          "name": "stdout"
        }
      ]
    },
    {
      "metadata": {
        "id": "m61Aw5-CT4jS",
        "colab_type": "text"
      },
      "cell_type": "markdown",
      "source": [
        "# Train & Validation (loss,accuracy) graph"
      ]
    },
    {
      "metadata": {
        "id": "Il9wI12kaKYR",
        "colab_type": "code",
        "outputId": "e4bf8f57-3e23-410d-9301-012f1da92157",
        "colab": {
          "base_uri": "https://localhost:8080/",
          "height": 283
        }
      },
      "cell_type": "code",
      "source": [
        "plt.plot(train_losses, label='Training loss')\n",
        "plt.plot(val_losses, label='Validation loss')\n",
        "plt.plot(train_accs, label='Train accuracy')\n",
        "plt.plot(val_accs, label='Validation accuracy')\n",
        "plt.legend(frameon=False)"
      ],
      "execution_count": 0,
      "outputs": [
        {
          "output_type": "execute_result",
          "data": {
            "text/plain": [
              "<matplotlib.legend.Legend at 0x7fe96af8b0f0>"
            ]
          },
          "metadata": {
            "tags": []
          },
          "execution_count": 18
        },
        {
          "output_type": "display_data",
          "data": {
            "image/png": "[encoded data removed]",
            "text/plain": [
              "<matplotlib.figure.Figure at 0x7fe968553588>"
            ]
          },
          "metadata": {
            "tags": []
          }
        }
      ]
    },
    {
      "metadata": {
        "id": "HFzC4cIAUCi_",
        "colab_type": "text"
      },
      "cell_type": "markdown",
      "source": [
        "# Load Model"
      ]
    },
    {
      "metadata": {
        "id": "2oNNjFqkTJJp",
        "colab_type": "code",
        "colab": {}
      },
      "cell_type": "code",
      "source": [
        "\n",
        "def load_checkpoint(filepath):\n",
        "    checkpoint = torch.load(filepath)\n",
        "    model = NeuralNetwork(input_size=checkpoint['input_size'],\n",
        "                             output_size=checkpoint['output_size'],\n",
        "                             hidden_layers=checkpoint['hidden_layers'])\n",
        "    model.load_state_dict(checkpoint['state_dict'])\n",
        "    \n",
        "    return model\n"
      ],
      "execution_count": 0,
      "outputs": []
    },
    {
      "metadata": {
        "id": "d6HnbILKLJN0",
        "colab_type": "code",
        "colab": {}
      },
      "cell_type": "code",
      "source": [
        "net = load_checkpoint('drive/My Drive/checkpoints/checkpoint.pth')"
      ],
      "execution_count": 0,
      "outputs": []
    },
    {
      "metadata": {
        "id": "hzO4qqh7UG-x",
        "colab_type": "text"
      },
      "cell_type": "markdown",
      "source": [
        "# Test"
      ]
    },
    {
      "metadata": {
        "id": "4cT3qcGdTLMd",
        "colab_type": "code",
        "colab": {}
      },
      "cell_type": "code",
      "source": [
        "def validation(model, test_loader, loss_function):\n",
        "    test_acc = 0\n",
        "    test_loss = 0\n",
        "    model.eval()\n",
        "    if torch.cuda.is_available():\n",
        "      model.cuda()\n",
        "    for x, y in test_loader:\n",
        "      print(y)\n",
        "      if torch.cuda.is_available():\n",
        "        x,y = x.cuda(), y.cuda()\n",
        "\n",
        "      else:\n",
        "        x,y = x.float(), y.float()\n",
        "\n",
        "\n",
        "      y_ = model.forward(x)\n",
        "      test_loss += loss_function(y_, y).item()\n",
        "\n",
        "      ps = torch.exp(y_)\n",
        "      top_p, top_class = ps.topk(1, dim=1)\n",
        "      equals = top_class == y.view(*top_class.shape) \n",
        "      test_acc += torch.mean(equals.type(torch.FloatTensor))\n",
        "        \n",
        "    test_acc /= len(test_loader)\n",
        "    test_loss /= len(test_loader)\n",
        "    \n",
        "    return test_loss, test_acc\n"
      ],
      "execution_count": 0,
      "outputs": []
    },
    {
      "metadata": {
        "id": "8k3FkOUwGqy5",
        "colab_type": "code",
        "colab": {}
      },
      "cell_type": "code",
      "source": [
        "test_loss, test_accuracy = validation(net,test_loader,loss_function)"
      ],
      "execution_count": 0,
      "outputs": []
    },
    {
      "metadata": {
        "id": "7PPFvgKrINIA",
        "colab_type": "code",
        "outputId": "345e3564-6969-4b32-b88c-21fc37e1c849",
        "colab": {
          "base_uri": "https://localhost:8080/",
          "height": 35
        }
      },
      "cell_type": "code",
      "source": [
        "test_accuracy"
      ],
      "execution_count": 0,
      "outputs": [
        {
          "output_type": "execute_result",
          "data": {
            "text/plain": [
              "tensor(0.9724)"
            ]
          },
          "metadata": {
            "tags": []
          },
          "execution_count": 23
        }
      ]
    }
  ]
}